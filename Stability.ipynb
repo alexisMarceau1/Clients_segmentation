{
 "cells": [
  {
   "cell_type": "code",
   "execution_count": 1,
   "id": "ecb191e3-4733-4bd3-88b7-b048a5720c73",
   "metadata": {},
   "outputs": [],
   "source": [
    "# Librairies import\n",
    "import os\n",
    "import numpy as np\n",
    "import pandas as pd\n",
    "import matplotlib.pyplot as plt\n",
    "import seaborn as sns\n",
    "import time\n",
    "import warnings\n",
    "from datetime import timedelta\n",
    "import datetime\n",
    "\n",
    "\n",
    "from project_functions import *\n",
    "\n",
    "from sklearn.preprocessing import MinMaxScaler\n",
    "from sklearn import preprocessing, metrics, cluster, decomposition\n",
    "from sklearn.metrics.cluster import adjusted_rand_score\n",
    "from sklearn.pipeline import Pipeline, make_pipeline\n",
    "\n",
    "# Clustering Librairies import\n",
    "from sklearn.cluster import KMeans\n",
    "\n",
    "warnings.filterwarnings(\"ignore\")\n",
    "pd.set_option('display.max_columns', 100)\n",
    "pd.set_option('display.max_rows', 100)\n",
    "pd.set_option('display.max_colwidth', None)"
   ]
  },
  {
   "cell_type": "markdown",
   "id": "9e7f3282-deab-4115-84be-e12f1d0b0862",
   "metadata": {},
   "source": [
    "# Lecture des données"
   ]
  },
  {
   "cell_type": "markdown",
   "id": "08c61253-61eb-4b19-93f1-0930cbc947fc",
   "metadata": {},
   "source": [
    "Dans le but d'établir un contrat de maintenance de l'algorithme de segmentation client, nous devons tester sa stabilité dans le temps et voir, par exemple, à quel moment les clients changent de Cluster."
   ]
  },
  {
   "cell_type": "code",
   "execution_count": 2,
   "id": "9f7f0e36-d800-45cb-b56b-48369cbdbdbd",
   "metadata": {},
   "outputs": [],
   "source": [
    "data = pd.read_pickle('data_clients.pickle')"
   ]
  },
  {
   "cell_type": "code",
   "execution_count": 3,
   "id": "cd49a29f-4226-4993-ac5a-e5a5df9ff373",
   "metadata": {},
   "outputs": [
    {
     "data": {
      "text/html": [
       "<div>\n",
       "<style scoped>\n",
       "    .dataframe tbody tr th:only-of-type {\n",
       "        vertical-align: middle;\n",
       "    }\n",
       "\n",
       "    .dataframe tbody tr th {\n",
       "        vertical-align: top;\n",
       "    }\n",
       "\n",
       "    .dataframe thead th {\n",
       "        text-align: right;\n",
       "    }\n",
       "</style>\n",
       "<table border=\"1\" class=\"dataframe\">\n",
       "  <thead>\n",
       "    <tr style=\"text-align: right;\">\n",
       "      <th></th>\n",
       "      <th>customer_unique_id</th>\n",
       "      <th>date_last_order</th>\n",
       "      <th>days_last_order</th>\n",
       "      <th>nb_orders</th>\n",
       "      <th>total_spend</th>\n",
       "      <th>mean_price_order</th>\n",
       "      <th>mean_review_score</th>\n",
       "      <th>total_items</th>\n",
       "      <th>mean_nb_items</th>\n",
       "      <th>zip_code</th>\n",
       "    </tr>\n",
       "  </thead>\n",
       "  <tbody>\n",
       "    <tr>\n",
       "      <th>0</th>\n",
       "      <td>0000366f3b9a7992bf8c76cfdf3221e2</td>\n",
       "      <td>2018-05-10 10:56:27</td>\n",
       "      <td>1481</td>\n",
       "      <td>1</td>\n",
       "      <td>129.90</td>\n",
       "      <td>129.90</td>\n",
       "      <td>5.0</td>\n",
       "      <td>1</td>\n",
       "      <td>1.0</td>\n",
       "      <td>7787</td>\n",
       "    </tr>\n",
       "    <tr>\n",
       "      <th>1</th>\n",
       "      <td>0000b849f77a49e4a4ce2b2a4ca5be3f</td>\n",
       "      <td>2018-05-07 11:11:27</td>\n",
       "      <td>1483</td>\n",
       "      <td>1</td>\n",
       "      <td>18.90</td>\n",
       "      <td>18.90</td>\n",
       "      <td>4.0</td>\n",
       "      <td>1</td>\n",
       "      <td>1.0</td>\n",
       "      <td>6053</td>\n",
       "    </tr>\n",
       "    <tr>\n",
       "      <th>2</th>\n",
       "      <td>0000f46a3911fa3c0805444483337064</td>\n",
       "      <td>2017-03-10 21:05:03</td>\n",
       "      <td>1906</td>\n",
       "      <td>1</td>\n",
       "      <td>69.00</td>\n",
       "      <td>69.00</td>\n",
       "      <td>3.0</td>\n",
       "      <td>1</td>\n",
       "      <td>1.0</td>\n",
       "      <td>88115</td>\n",
       "    </tr>\n",
       "    <tr>\n",
       "      <th>3</th>\n",
       "      <td>0000f6ccb0745a6a4b88665a16c9f078</td>\n",
       "      <td>2017-10-12 20:29:41</td>\n",
       "      <td>1690</td>\n",
       "      <td>1</td>\n",
       "      <td>25.99</td>\n",
       "      <td>25.99</td>\n",
       "      <td>4.0</td>\n",
       "      <td>1</td>\n",
       "      <td>1.0</td>\n",
       "      <td>66812</td>\n",
       "    </tr>\n",
       "    <tr>\n",
       "      <th>4</th>\n",
       "      <td>0004aac84e0df4da2b147fca70cf8255</td>\n",
       "      <td>2017-11-14 19:45:42</td>\n",
       "      <td>1657</td>\n",
       "      <td>1</td>\n",
       "      <td>180.00</td>\n",
       "      <td>180.00</td>\n",
       "      <td>5.0</td>\n",
       "      <td>1</td>\n",
       "      <td>1.0</td>\n",
       "      <td>18040</td>\n",
       "    </tr>\n",
       "  </tbody>\n",
       "</table>\n",
       "</div>"
      ],
      "text/plain": [
       "                 customer_unique_id     date_last_order  days_last_order  \\\n",
       "0  0000366f3b9a7992bf8c76cfdf3221e2 2018-05-10 10:56:27             1481   \n",
       "1  0000b849f77a49e4a4ce2b2a4ca5be3f 2018-05-07 11:11:27             1483   \n",
       "2  0000f46a3911fa3c0805444483337064 2017-03-10 21:05:03             1906   \n",
       "3  0000f6ccb0745a6a4b88665a16c9f078 2017-10-12 20:29:41             1690   \n",
       "4  0004aac84e0df4da2b147fca70cf8255 2017-11-14 19:45:42             1657   \n",
       "\n",
       "   nb_orders  total_spend  mean_price_order  mean_review_score  total_items  \\\n",
       "0          1       129.90            129.90                5.0            1   \n",
       "1          1        18.90             18.90                4.0            1   \n",
       "2          1        69.00             69.00                3.0            1   \n",
       "3          1        25.99             25.99                4.0            1   \n",
       "4          1       180.00            180.00                5.0            1   \n",
       "\n",
       "   mean_nb_items  zip_code  \n",
       "0            1.0      7787  \n",
       "1            1.0      6053  \n",
       "2            1.0     88115  \n",
       "3            1.0     66812  \n",
       "4            1.0     18040  "
      ]
     },
     "execution_count": 3,
     "metadata": {},
     "output_type": "execute_result"
    }
   ],
   "source": [
    "data.head()"
   ]
  },
  {
   "cell_type": "code",
   "execution_count": 4,
   "id": "a504c39d-cc31-4c29-b4d1-b7c4001bafcf",
   "metadata": {},
   "outputs": [],
   "source": [
    "data.drop([\"zip_code\"], axis=1, inplace = True)"
   ]
  },
  {
   "cell_type": "code",
   "execution_count": 5,
   "id": "f9e23b39-43db-4023-81d3-1e2c146e793e",
   "metadata": {},
   "outputs": [
    {
     "data": {
      "text/plain": [
       "customer_unique_id      0\n",
       "date_last_order         0\n",
       "days_last_order         0\n",
       "nb_orders               0\n",
       "total_spend             0\n",
       "mean_price_order        0\n",
       "mean_review_score     603\n",
       "total_items             0\n",
       "mean_nb_items           0\n",
       "dtype: int64"
      ]
     },
     "execution_count": 5,
     "metadata": {},
     "output_type": "execute_result"
    }
   ],
   "source": [
    "data.isna().sum()"
   ]
  },
  {
   "cell_type": "code",
   "execution_count": 6,
   "id": "6dbb663c-c0dd-42cf-ab73-d7679e9ce461",
   "metadata": {},
   "outputs": [],
   "source": [
    "data.dropna(inplace=True)"
   ]
  },
  {
   "cell_type": "code",
   "execution_count": 7,
   "id": "f4a6be5f-625c-44fb-80c2-5433ca2ac48d",
   "metadata": {},
   "outputs": [
    {
     "data": {
      "text/plain": [
       "customer_unique_id    0\n",
       "date_last_order       0\n",
       "days_last_order       0\n",
       "nb_orders             0\n",
       "total_spend           0\n",
       "mean_price_order      0\n",
       "mean_review_score     0\n",
       "total_items           0\n",
       "mean_nb_items         0\n",
       "dtype: int64"
      ]
     },
     "execution_count": 7,
     "metadata": {},
     "output_type": "execute_result"
    }
   ],
   "source": [
    "data.isna().sum()"
   ]
  },
  {
   "cell_type": "code",
   "execution_count": 8,
   "id": "e5739081-dcbc-476b-8c4c-85d7838855bb",
   "metadata": {},
   "outputs": [],
   "source": [
    "data.set_index(\"customer_unique_id\", inplace=True)"
   ]
  },
  {
   "cell_type": "code",
   "execution_count": 9,
   "id": "61089223-fe77-4d32-ab08-4011e91531e1",
   "metadata": {},
   "outputs": [
    {
     "data": {
      "text/html": [
       "<div>\n",
       "<style scoped>\n",
       "    .dataframe tbody tr th:only-of-type {\n",
       "        vertical-align: middle;\n",
       "    }\n",
       "\n",
       "    .dataframe tbody tr th {\n",
       "        vertical-align: top;\n",
       "    }\n",
       "\n",
       "    .dataframe thead th {\n",
       "        text-align: right;\n",
       "    }\n",
       "</style>\n",
       "<table border=\"1\" class=\"dataframe\">\n",
       "  <thead>\n",
       "    <tr style=\"text-align: right;\">\n",
       "      <th></th>\n",
       "      <th>date_last_order</th>\n",
       "      <th>days_last_order</th>\n",
       "      <th>nb_orders</th>\n",
       "      <th>total_spend</th>\n",
       "      <th>mean_price_order</th>\n",
       "      <th>mean_review_score</th>\n",
       "      <th>total_items</th>\n",
       "      <th>mean_nb_items</th>\n",
       "    </tr>\n",
       "    <tr>\n",
       "      <th>customer_unique_id</th>\n",
       "      <th></th>\n",
       "      <th></th>\n",
       "      <th></th>\n",
       "      <th></th>\n",
       "      <th></th>\n",
       "      <th></th>\n",
       "      <th></th>\n",
       "      <th></th>\n",
       "    </tr>\n",
       "  </thead>\n",
       "  <tbody>\n",
       "    <tr>\n",
       "      <th>0000366f3b9a7992bf8c76cfdf3221e2</th>\n",
       "      <td>2018-05-10 10:56:27</td>\n",
       "      <td>1481</td>\n",
       "      <td>1</td>\n",
       "      <td>129.90</td>\n",
       "      <td>129.90</td>\n",
       "      <td>5.0</td>\n",
       "      <td>1</td>\n",
       "      <td>1.0</td>\n",
       "    </tr>\n",
       "    <tr>\n",
       "      <th>0000b849f77a49e4a4ce2b2a4ca5be3f</th>\n",
       "      <td>2018-05-07 11:11:27</td>\n",
       "      <td>1483</td>\n",
       "      <td>1</td>\n",
       "      <td>18.90</td>\n",
       "      <td>18.90</td>\n",
       "      <td>4.0</td>\n",
       "      <td>1</td>\n",
       "      <td>1.0</td>\n",
       "    </tr>\n",
       "    <tr>\n",
       "      <th>0000f46a3911fa3c0805444483337064</th>\n",
       "      <td>2017-03-10 21:05:03</td>\n",
       "      <td>1906</td>\n",
       "      <td>1</td>\n",
       "      <td>69.00</td>\n",
       "      <td>69.00</td>\n",
       "      <td>3.0</td>\n",
       "      <td>1</td>\n",
       "      <td>1.0</td>\n",
       "    </tr>\n",
       "    <tr>\n",
       "      <th>0000f6ccb0745a6a4b88665a16c9f078</th>\n",
       "      <td>2017-10-12 20:29:41</td>\n",
       "      <td>1690</td>\n",
       "      <td>1</td>\n",
       "      <td>25.99</td>\n",
       "      <td>25.99</td>\n",
       "      <td>4.0</td>\n",
       "      <td>1</td>\n",
       "      <td>1.0</td>\n",
       "    </tr>\n",
       "    <tr>\n",
       "      <th>0004aac84e0df4da2b147fca70cf8255</th>\n",
       "      <td>2017-11-14 19:45:42</td>\n",
       "      <td>1657</td>\n",
       "      <td>1</td>\n",
       "      <td>180.00</td>\n",
       "      <td>180.00</td>\n",
       "      <td>5.0</td>\n",
       "      <td>1</td>\n",
       "      <td>1.0</td>\n",
       "    </tr>\n",
       "  </tbody>\n",
       "</table>\n",
       "</div>"
      ],
      "text/plain": [
       "                                     date_last_order  days_last_order  \\\n",
       "customer_unique_id                                                      \n",
       "0000366f3b9a7992bf8c76cfdf3221e2 2018-05-10 10:56:27             1481   \n",
       "0000b849f77a49e4a4ce2b2a4ca5be3f 2018-05-07 11:11:27             1483   \n",
       "0000f46a3911fa3c0805444483337064 2017-03-10 21:05:03             1906   \n",
       "0000f6ccb0745a6a4b88665a16c9f078 2017-10-12 20:29:41             1690   \n",
       "0004aac84e0df4da2b147fca70cf8255 2017-11-14 19:45:42             1657   \n",
       "\n",
       "                                  nb_orders  total_spend  mean_price_order  \\\n",
       "customer_unique_id                                                           \n",
       "0000366f3b9a7992bf8c76cfdf3221e2          1       129.90            129.90   \n",
       "0000b849f77a49e4a4ce2b2a4ca5be3f          1        18.90             18.90   \n",
       "0000f46a3911fa3c0805444483337064          1        69.00             69.00   \n",
       "0000f6ccb0745a6a4b88665a16c9f078          1        25.99             25.99   \n",
       "0004aac84e0df4da2b147fca70cf8255          1       180.00            180.00   \n",
       "\n",
       "                                  mean_review_score  total_items  \\\n",
       "customer_unique_id                                                 \n",
       "0000366f3b9a7992bf8c76cfdf3221e2                5.0            1   \n",
       "0000b849f77a49e4a4ce2b2a4ca5be3f                4.0            1   \n",
       "0000f46a3911fa3c0805444483337064                3.0            1   \n",
       "0000f6ccb0745a6a4b88665a16c9f078                4.0            1   \n",
       "0004aac84e0df4da2b147fca70cf8255                5.0            1   \n",
       "\n",
       "                                  mean_nb_items  \n",
       "customer_unique_id                               \n",
       "0000366f3b9a7992bf8c76cfdf3221e2            1.0  \n",
       "0000b849f77a49e4a4ce2b2a4ca5be3f            1.0  \n",
       "0000f46a3911fa3c0805444483337064            1.0  \n",
       "0000f6ccb0745a6a4b88665a16c9f078            1.0  \n",
       "0004aac84e0df4da2b147fca70cf8255            1.0  "
      ]
     },
     "execution_count": 9,
     "metadata": {},
     "output_type": "execute_result"
    }
   ],
   "source": [
    "data.head()"
   ]
  },
  {
   "cell_type": "markdown",
   "id": "b3a4d0b6-9d28-4545-90a0-b545d8c17fde",
   "metadata": {},
   "source": [
    "---"
   ]
  },
  {
   "cell_type": "markdown",
   "id": "24613031-11eb-44f1-9107-87a043d4682f",
   "metadata": {},
   "source": [
    "# Méthode"
   ]
  },
  {
   "cell_type": "markdown",
   "id": "a9b1cf35-53c4-4047-9ea6-683ee2d4cbef",
   "metadata": {},
   "source": [
    "Nous devons vérifier à partir de quel moment les clients changent de segment. \n",
    "\n",
    "Dans le but d'établir un contrat de maintenant du programme de segmentation, nous devons tester sa stabilité dans le temps."
   ]
  },
  {
   "cell_type": "markdown",
   "id": "9051c767-7fa4-4dff-8d9f-4495b7d99dbe",
   "metadata": {},
   "source": [
    "Ainsi, on réalise les étapes suivantes :"
   ]
  },
  {
   "cell_type": "markdown",
   "id": "451a13bd-f488-42ab-87c8-bac3ab866453",
   "metadata": {},
   "source": [
    "- Segmentation de référence sur une période d'un an avec date de départ = t0\n",
    "- Segmentation sur une période d'un an avec date de départ décalé (t0 + delta_days)\n",
    "- Comparaison des segmentations grâce au calcul de l'indice de rang ajusté (ARI)."
   ]
  },
  {
   "cell_type": "markdown",
   "id": "17dfe029-98b8-47bb-946f-bfe8b7724c3d",
   "metadata": {},
   "source": [
    "# Données initiales :"
   ]
  },
  {
   "cell_type": "markdown",
   "id": "d42343f7-a47b-4611-9625-e9c62523678d",
   "metadata": {},
   "source": [
    "Observons la durée totale du dataset :"
   ]
  },
  {
   "cell_type": "code",
   "execution_count": 10,
   "id": "9981ebaf-8248-4f62-a6aa-e6d8292f2461",
   "metadata": {},
   "outputs": [
    {
     "data": {
      "text/plain": [
       "datetime.timedelta(days=713)"
      ]
     },
     "execution_count": 10,
     "metadata": {},
     "output_type": "execute_result"
    }
   ],
   "source": [
    "data['date_last_order'].max().date() - data['date_last_order'].min().date()"
   ]
  },
  {
   "cell_type": "markdown",
   "id": "5f01d286-97ce-4b0c-a4a1-53f4c09708fa",
   "metadata": {},
   "source": [
    "Maintenant la date de début et la date de fin :"
   ]
  },
  {
   "cell_type": "code",
   "execution_count": 11,
   "id": "c55400e0-d15d-49c9-996d-622a10ad7060",
   "metadata": {},
   "outputs": [
    {
     "name": "stdout",
     "output_type": "stream",
     "text": [
      "Premier jour de la BDD : 2016-09-15\n",
      "Dernier jour de la BDD : 2018-08-29\n"
     ]
    }
   ],
   "source": [
    "print(f\"Premier jour de la BDD : {data['date_last_order'].min().date()}\")\n",
    "print(f\"Dernier jour de la BDD : {data['date_last_order'].max().date()}\")"
   ]
  },
  {
   "cell_type": "markdown",
   "id": "765646c1-50cf-4206-978d-2f99f9810fd9",
   "metadata": {},
   "source": [
    "On peut créer une fonction d'extraction de données par période :"
   ]
  },
  {
   "cell_type": "code",
   "execution_count": 19,
   "id": "ef0c3c01-7813-424d-b58f-478f71b2444f",
   "metadata": {},
   "outputs": [],
   "source": [
    "t0 = datetime.date(2017,2,1) #On sélectionne la date initiale après la phase de test\n",
    "delta = 365 #période d'étude pour chaque steps\n",
    "\n",
    "def data_period(df, offset=0):\n",
    "    date = data['date_last_order'].apply(lambda x :x.date())\n",
    "    start = t0 + timedelta(days=offset)\n",
    "    end = start + timedelta(days=delta)\n",
    "    print(f\"On [{start} --> {end}]\")\n",
    "    df_period = data[(date >= start) & (date <= end)]\n",
    "    return df_period"
   ]
  },
  {
   "cell_type": "code",
   "execution_count": 13,
   "id": "2f6d4ed8-943d-48ce-bf6f-f7c00428bcee",
   "metadata": {},
   "outputs": [
    {
     "name": "stdout",
     "output_type": "stream",
     "text": [
      "On [2017-02-01 --> 2018-02-01]\n"
     ]
    }
   ],
   "source": [
    "data_init = data_period(data, offset=0).drop([\"date_last_order\",\"mean_price_order\",\"total_items\"],axis=1)"
   ]
  },
  {
   "cell_type": "code",
   "execution_count": 14,
   "id": "ee7a0daa-cc0c-4472-8606-1efbca315ac3",
   "metadata": {},
   "outputs": [
    {
     "data": {
      "text/html": [
       "<div>\n",
       "<style scoped>\n",
       "    .dataframe tbody tr th:only-of-type {\n",
       "        vertical-align: middle;\n",
       "    }\n",
       "\n",
       "    .dataframe tbody tr th {\n",
       "        vertical-align: top;\n",
       "    }\n",
       "\n",
       "    .dataframe thead th {\n",
       "        text-align: right;\n",
       "    }\n",
       "</style>\n",
       "<table border=\"1\" class=\"dataframe\">\n",
       "  <thead>\n",
       "    <tr style=\"text-align: right;\">\n",
       "      <th></th>\n",
       "      <th>days_last_order</th>\n",
       "      <th>nb_orders</th>\n",
       "      <th>total_spend</th>\n",
       "      <th>mean_review_score</th>\n",
       "      <th>mean_nb_items</th>\n",
       "    </tr>\n",
       "    <tr>\n",
       "      <th>customer_unique_id</th>\n",
       "      <th></th>\n",
       "      <th></th>\n",
       "      <th></th>\n",
       "      <th></th>\n",
       "      <th></th>\n",
       "    </tr>\n",
       "  </thead>\n",
       "  <tbody>\n",
       "    <tr>\n",
       "      <th>0000f46a3911fa3c0805444483337064</th>\n",
       "      <td>1906</td>\n",
       "      <td>1</td>\n",
       "      <td>69.00</td>\n",
       "      <td>3.0</td>\n",
       "      <td>1.0</td>\n",
       "    </tr>\n",
       "    <tr>\n",
       "      <th>0000f6ccb0745a6a4b88665a16c9f078</th>\n",
       "      <td>1690</td>\n",
       "      <td>1</td>\n",
       "      <td>25.99</td>\n",
       "      <td>4.0</td>\n",
       "      <td>1.0</td>\n",
       "    </tr>\n",
       "    <tr>\n",
       "      <th>0004aac84e0df4da2b147fca70cf8255</th>\n",
       "      <td>1657</td>\n",
       "      <td>1</td>\n",
       "      <td>180.00</td>\n",
       "      <td>5.0</td>\n",
       "      <td>1.0</td>\n",
       "    </tr>\n",
       "    <tr>\n",
       "      <th>0005e1862207bf6ccc02e4228effd9a0</th>\n",
       "      <td>1912</td>\n",
       "      <td>1</td>\n",
       "      <td>135.00</td>\n",
       "      <td>4.0</td>\n",
       "      <td>1.0</td>\n",
       "    </tr>\n",
       "    <tr>\n",
       "      <th>0006fdc98a402fceb4eb0ee528f6a8d4</th>\n",
       "      <td>1777</td>\n",
       "      <td>1</td>\n",
       "      <td>13.90</td>\n",
       "      <td>3.0</td>\n",
       "      <td>1.0</td>\n",
       "    </tr>\n",
       "  </tbody>\n",
       "</table>\n",
       "</div>"
      ],
      "text/plain": [
       "                                  days_last_order  nb_orders  total_spend  \\\n",
       "customer_unique_id                                                          \n",
       "0000f46a3911fa3c0805444483337064             1906          1        69.00   \n",
       "0000f6ccb0745a6a4b88665a16c9f078             1690          1        25.99   \n",
       "0004aac84e0df4da2b147fca70cf8255             1657          1       180.00   \n",
       "0005e1862207bf6ccc02e4228effd9a0             1912          1       135.00   \n",
       "0006fdc98a402fceb4eb0ee528f6a8d4             1777          1        13.90   \n",
       "\n",
       "                                  mean_review_score  mean_nb_items  \n",
       "customer_unique_id                                                  \n",
       "0000f46a3911fa3c0805444483337064                3.0            1.0  \n",
       "0000f6ccb0745a6a4b88665a16c9f078                4.0            1.0  \n",
       "0004aac84e0df4da2b147fca70cf8255                5.0            1.0  \n",
       "0005e1862207bf6ccc02e4228effd9a0                4.0            1.0  \n",
       "0006fdc98a402fceb4eb0ee528f6a8d4                3.0            1.0  "
      ]
     },
     "execution_count": 14,
     "metadata": {},
     "output_type": "execute_result"
    }
   ],
   "source": [
    "data_init.head()"
   ]
  },
  {
   "cell_type": "markdown",
   "id": "8f980b2b-6366-49e6-a465-b58a909d3921",
   "metadata": {},
   "source": [
    "**Normalisation**"
   ]
  },
  {
   "cell_type": "code",
   "execution_count": 15,
   "id": "d912b62d-784a-4c91-929a-acb5a9e4f6b2",
   "metadata": {},
   "outputs": [],
   "source": [
    "scaler_init = preprocessing.MinMaxScaler().fit(data_init)\n",
    "data_init_norm = scaler_init.transform(data_init)"
   ]
  },
  {
   "cell_type": "markdown",
   "id": "db39f770-cd9c-4573-9bc3-a82a62ee49d3",
   "metadata": {},
   "source": [
    "**Clustering sur les données initiales**"
   ]
  },
  {
   "cell_type": "code",
   "execution_count": 16,
   "id": "56bcd372-1214-4ce0-92f1-8875078bf8df",
   "metadata": {},
   "outputs": [
    {
     "data": {
      "text/plain": [
       "KMeans(n_clusters=4, random_state=0)"
      ]
     },
     "execution_count": 16,
     "metadata": {},
     "output_type": "execute_result"
    }
   ],
   "source": [
    "cls_init = KMeans(n_clusters=4, random_state=0)\n",
    "cls_init.fit(data_init_norm)"
   ]
  },
  {
   "cell_type": "markdown",
   "id": "25d0f5cd-9083-42ec-898a-867d104527ca",
   "metadata": {},
   "source": [
    "# Observation de la stabilité :"
   ]
  },
  {
   "cell_type": "code",
   "execution_count": 17,
   "id": "b233fd93-20b5-4433-b255-090c8e26171e",
   "metadata": {},
   "outputs": [
    {
     "name": "stdout",
     "output_type": "stream",
     "text": [
      "On [2017-02-01 --> 2018-02-01]\n",
      "On [2017-02-11 --> 2018-02-11]\n",
      "On [2017-02-21 --> 2018-02-21]\n",
      "On [2017-03-03 --> 2018-03-03]\n",
      "On [2017-03-13 --> 2018-03-13]\n",
      "On [2017-03-23 --> 2018-03-23]\n",
      "On [2017-04-02 --> 2018-04-02]\n",
      "On [2017-04-12 --> 2018-04-12]\n",
      "On [2017-04-22 --> 2018-04-22]\n"
     ]
    }
   ],
   "source": [
    "ARI = []\n",
    "periods = range(0, 90, 10)\n",
    "for days in periods:\n",
    "    #création dataset sur la période\n",
    "    data_step = data_period(data, offset=days).drop([\"date_last_order\",\"mean_price_order\",\"total_items\"],axis=1)\n",
    "\n",
    "    #prédiction sur cette période avec le scaler initial\n",
    "    data_step_oldnorm = scaler_init.transform(data_step)\n",
    "    pred_step_no_update = cls_init.predict(data_step_oldnorm)  \n",
    "    \n",
    "    #création d'un nouveau scaler et prédiction\n",
    "    scaler_step = preprocessing.MinMaxScaler().fit(data_step)\n",
    "    data_step_norm = scaler_step.transform(data_step)\n",
    "    cls_step = KMeans(n_clusters=4, random_state=0)\n",
    "    cls_step.fit(data_step_norm)\n",
    "    pred_step_update = cls_step.predict(data_step_norm)\n",
    "    \n",
    "    #comparaison des prédictions avec le score ARI\n",
    "    ARI.append(metrics.adjusted_rand_score(pred_step_no_update, pred_step_update))"
   ]
  },
  {
   "cell_type": "code",
   "execution_count": 18,
   "id": "6479b963-bbfa-4ded-be09-080a0f652a50",
   "metadata": {},
   "outputs": [
    {
     "data": {
      "image/png": "[encoded data removed]",
      "text/plain": [
       "<Figure size 432x288 with 1 Axes>"
      ]
     },
     "metadata": {
      "needs_background": "light"
     },
     "output_type": "display_data"
    }
   ],
   "source": [
    "fig, ax = plt.subplots()\n",
    "ax.plot(periods,ARI, linestyle=\"--\", marker=\"o\")\n",
    "plt.axhline(0.80, c='g', linestyle= '--')\n",
    "ax.set_xlabel('period (days)')\n",
    "ax.set_ylabel('ARI')\n",
    "ax.set_title('Stabilité de la segmentation au cours du temps')\n",
    "plt.show()"
   ]
  },
  {
   "cell_type": "code",
   "execution_count": null,
   "id": "919388eb-ee8b-4308-be03-3533af0ade82",
   "metadata": {},
   "outputs": [],
   "source": []
  }
 ],
 "metadata": {
  "kernelspec": {
   "display_name": "Python [conda env:adsml] *",
   "language": "python",
   "name": "conda-env-adsml-py"
  },
  "language_info": {
   "codemirror_mode": {
    "name": "ipython",
    "version": 3
   },
   "file_extension": ".py",
   "mimetype": "text/x-python",
   "name": "python",
   "nbconvert_exporter": "python",
   "pygments_lexer": "ipython3",
   "version": "3.9.7"
  }
 },
 "nbformat": 4,
 "nbformat_minor": 5
}
